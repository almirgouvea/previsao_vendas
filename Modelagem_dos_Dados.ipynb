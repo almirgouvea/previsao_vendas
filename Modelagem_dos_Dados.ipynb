{
 "cells": [
  {
   "cell_type": "markdown",
   "id": "c9b52287",
   "metadata": {},
   "source": [
    "# 1. Problema de negócio\n",
    "\n",
    "Atualmente, a previsão de vendas não é suficientemente precisa para direcionar a produção de forma eficiente. Isso pode levar a desajustes entre a oferta e a demanda, resultando em excesso ou falta de estoque. Por conta disso é necessário criar medidas para poder analisar os produtos que devem ser fabricados e quando deve fabricá-los.\n"
   ]
  },
  {
   "cell_type": "markdown",
   "id": "8c86ddb6",
   "metadata": {
    "ExecuteTime": {
     "end_time": "2024-08-22T05:54:40.872082Z",
     "start_time": "2024-08-22T05:54:40.852084Z"
    }
   },
   "source": [
    "## 1.1. Resultado Esperado\n",
    "\n",
    "Desenvolver e implementar um modelo avançado de previsão de vendas que permita uma estimativa precisa da demanda. Este modelo deve fornecer informações detalhadas sobre quais produtos devem ser fabricados e os momentos ideais para sua produção. A partir dessa previsão precisa, a indústria conseguirá alinhar a produção com a demanda real, otimizando a gestão de estoque e evitando tanto excessos quanto faltas. "
   ]
  },
  {
   "cell_type": "markdown",
   "id": "32a14ee1",
   "metadata": {
    "ExecuteTime": {
     "end_time": "2024-08-22T05:54:53.440754Z",
     "start_time": "2024-08-22T05:54:53.435272Z"
    }
   },
   "source": [
    "# 2 - Entendimento dos dados e Formulação de Hipóteses"
   ]
  },
  {
   "cell_type": "markdown",
   "id": "01ee57df",
   "metadata": {},
   "source": [
    "## 2.1. Variáveis\n",
    "\n",
    "| **Feature**              | **Tipo Variável** | **Descrição**                                                |\n",
    "|--------------------------|--------------------|--------------------------------------------------------------|\n",
    "| COD_CICLO                | Ordinal            | Indicação de período definido por marketing                  |\n",
    "| FLG_DATA_COMEMORATIVA    | FLAG               | Indicação se o ciclo pertence a alguma data comemorativa nacional |\n",
    "| COD_MATERIAL             | Categórica         | Código referente ao material - SKU                           |\n",
    "| COD_CANAL                | Categórica         | Em qual canal de vendas foi efetuada a venda do período       |\n",
    "| DES_CATEGORIA_MATERIAL   | Categórica         | Qual a categoria do material                                 |\n",
    "| DES_MARCA_MATERIAL       | Categórica         | Qual a marca do material                                     |\n",
    "| COD_REGIAO               | Categórica         | Região a qual foi efetuada a venda                           |\n",
    "| QT_VENDA_BRUTO           | Continua           | Quantidade de itens vendidos                                |\n",
    "| QT_DEVOLUCAO             | Continua           | Quantidade de itens devolvidos                              |\n",
    "| VL_RECEITA_BRUTA         | Continua           | Valor da receita bruta                                      |\n",
    "| VL_RECEITA_LIQUIDA       | Continua           | Valor da receita líquida                                    |\n",
    "| FLG_CAMPANHA_MKT_A       | FLAG               | Campanha de Marketing - TIPO A                              |\n",
    "| FLG_CAMPANHA_MKT_B       | FLAG               | Campanha de Marketing - TIPO B                              |\n",
    "| FLG_CAMPANHA_MKT_C       | FLAG               | Campanha de Marketing - TIPO C                              |\n",
    "| FLG_CAMPANHA_MKT_D       | FLAG               | Campanha de Marketing - TIPO D                              |\n",
    "| FLG_CAMPANHA_MKT_E       | FLAG               | Campanha de Marketing - TIPO E                              |\n",
    "| PCT_DESCONTO             | Continua           | Percentual de desconto feito por Marketing                   |\n",
    "| VL_PRECO                 | Continua           | Valor do preço do Produto                                    |\n"
   ]
  },
  {
   "cell_type": "markdown",
   "id": "68ba6b3e",
   "metadata": {},
   "source": [
    "# 3. Coleta e preparação dos dados"
   ]
  },
  {
   "cell_type": "markdown",
   "id": "42c084ac",
   "metadata": {},
   "source": [
    "## 3.1. Instalação das bibliotecas"
   ]
  },
  {
   "cell_type": "code",
   "execution_count": 1,
   "id": "3ab72478",
   "metadata": {
    "ExecuteTime": {
     "end_time": "2024-08-22T10:06:58.451510Z",
     "start_time": "2024-08-22T10:06:55.284967Z"
    }
   },
   "outputs": [
    {
     "name": "stdout",
     "output_type": "stream",
     "text": [
      "pandas já esta instalado.\n",
      "scikit-learn não encontrado. Iniciando a instalação\n",
      "scikit-learn instalado com sucesso.\n"
     ]
    }
   ],
   "source": [
    "\"\"\"\n",
    "# análise estatística dos dados: jupyter-summarytools\n",
    "\n",
    "# Analise de correlações: seaborn e heatmapz\n",
    "\n",
    "# Remoção de acentos: unidecode\n",
    "\"\"\"\n",
    "\n",
    "import os\n",
    "import sys\n",
    "import subprocess\n",
    "\n",
    "libraries = [\"pandas\", \"scikit-learn\"]\n",
    "\n",
    "\n",
    "for lib in libraries:\n",
    "    try:\n",
    "        __import__(lib)\n",
    "        print(f\"{lib} já esta instalado.\")\n",
    "    except ImportError:\n",
    "        print(f\"{lib} não encontrado. Iniciando a instalação\")\n",
    "        subprocess.check_call([sys.executable, \"-m\", \"pip\", \"install\", lib])\n",
    "        print(f\"{lib} instalado com sucesso.\")\n",
    "    "
   ]
  },
  {
   "cell_type": "markdown",
   "id": "ca34f9fe",
   "metadata": {},
   "source": [
    "## 3.2. Importando as bibliotecas e setando funções "
   ]
  },
  {
   "cell_type": "code",
   "execution_count": 2,
   "id": "003d43f2",
   "metadata": {
    "ExecuteTime": {
     "end_time": "2024-08-22T10:06:59.698103Z",
     "start_time": "2024-08-22T10:06:58.453518Z"
    }
   },
   "outputs": [],
   "source": [
    "import pandas as pd\n",
    "import numpy as np\n",
    "import seaborn as sns\n",
    "from unidecode import unidecode\n",
    "from datetime import datetime, timedelta\n",
    "\n",
    "from sklearn.model_selection import train_test_split\n",
    "from sklearn.preprocessing import StandardScaler, OneHotEncoder\n",
    "from sklearn.compose import ColumnTransformer\n",
    "from sklearn.pipeline import Pipeline\n",
    "from sklearn.ensemble import RandomForestRegressor\n",
    "from sklearn.metrics import mean_squared_error\n",
    "\n",
    "from category_encoders import BinaryEncoder, CountEncoder\n",
    "from sklearn.preprocessing import RobustScaler"
   ]
  },
  {
   "cell_type": "code",
   "execution_count": 3,
   "id": "80405b0f",
   "metadata": {
    "ExecuteTime": {
     "end_time": "2024-08-22T10:06:59.713716Z",
     "start_time": "2024-08-22T10:06:59.699103Z"
    }
   },
   "outputs": [],
   "source": [
    "def week_to_date(data, day=1):\n",
    "    \"\"\"\n",
    "    Converte o ano e número da semana para o primeiro dia da semana\n",
    "    \"\"\"\n",
    "    \n",
    "    year = int(str(data)[:4])\n",
    "    week = int(str(data)[4:])\n",
    "    \n",
    "    # Calcular o primeiro dia do ano\n",
    "    start_date = datetime(year, 1, 1)\n",
    "    \n",
    "    # Ajustar para a primeira segunda-feira do ano\n",
    "    start_date += timedelta(days=(7 - start_date.weekday()))\n",
    "    \n",
    "    # Calcular o início da semana desejada\n",
    "    start_of_week = start_date + timedelta(weeks=week - 1)\n",
    "    \n",
    "    # Ajustar para o dia da semana (1 para segunda-feira, ..., 7 para domingo)\n",
    "    target_date = start_of_week + timedelta(days=day - 1)\n",
    "    \n",
    "    return target_date"
   ]
  },
  {
   "cell_type": "markdown",
   "id": "dc859aa3",
   "metadata": {
    "ExecuteTime": {
     "end_time": "2024-08-22T06:00:17.549074Z",
     "start_time": "2024-08-22T06:00:17.515410Z"
    }
   },
   "source": [
    "## 3.3. Lendo o dataset"
   ]
  },
  {
   "cell_type": "code",
   "execution_count": 4,
   "id": "55db3c87",
   "metadata": {
    "ExecuteTime": {
     "end_time": "2024-08-22T10:07:00.132267Z",
     "start_time": "2024-08-22T10:06:59.718492Z"
    }
   },
   "outputs": [
    {
     "data": {
      "text/html": [
       "<div>\n",
       "<style scoped>\n",
       "    .dataframe tbody tr th:only-of-type {\n",
       "        vertical-align: middle;\n",
       "    }\n",
       "\n",
       "    .dataframe tbody tr th {\n",
       "        vertical-align: top;\n",
       "    }\n",
       "\n",
       "    .dataframe thead th {\n",
       "        text-align: right;\n",
       "    }\n",
       "</style>\n",
       "<table border=\"1\" class=\"dataframe\">\n",
       "  <thead>\n",
       "    <tr style=\"text-align: right;\">\n",
       "      <th></th>\n",
       "      <th>COD_CICLO</th>\n",
       "      <th>FLG_DATA</th>\n",
       "      <th>COD_MATERIAL</th>\n",
       "      <th>COD_CANAL</th>\n",
       "      <th>DES_CATEGORIA_MATERIAL</th>\n",
       "      <th>DES_MARCA_MATERIAL</th>\n",
       "      <th>COD_REGIAO</th>\n",
       "      <th>QT_VENDA_BRUTO</th>\n",
       "      <th>QT_DEVOLUCAO</th>\n",
       "      <th>VL_RECEITA_BRUTA</th>\n",
       "      <th>VL_RECEITA_LIQUIDA</th>\n",
       "      <th>FLG_CAMPANHA_MKT_A</th>\n",
       "      <th>FLG_CAMPANHA_MKT_B</th>\n",
       "      <th>FLG_CAMPANHA_MKT_C</th>\n",
       "      <th>FLG_CAMPANHA_MKT_D</th>\n",
       "      <th>FLG_CAMPANHA_MKT_E</th>\n",
       "      <th>PCT_DESCONTO</th>\n",
       "      <th>VL_PRECO</th>\n",
       "    </tr>\n",
       "  </thead>\n",
       "  <tbody>\n",
       "    <tr>\n",
       "      <th>0</th>\n",
       "      <td>201917</td>\n",
       "      <td>1</td>\n",
       "      <td>431148</td>\n",
       "      <td>anon_S0</td>\n",
       "      <td>anon_S2</td>\n",
       "      <td>anon_S3</td>\n",
       "      <td>anon_S1</td>\n",
       "      <td>11934,000000</td>\n",
       "      <td>414.0</td>\n",
       "      <td>431869,080000</td>\n",
       "      <td>431869,080000</td>\n",
       "      <td>0</td>\n",
       "      <td>0</td>\n",
       "      <td>0</td>\n",
       "      <td>0</td>\n",
       "      <td>0</td>\n",
       "      <td>NaN</td>\n",
       "      <td>455,400000</td>\n",
       "    </tr>\n",
       "    <tr>\n",
       "      <th>1</th>\n",
       "      <td>202005</td>\n",
       "      <td>0</td>\n",
       "      <td>177816</td>\n",
       "      <td>anon_S0</td>\n",
       "      <td>anon_S2</td>\n",
       "      <td>anon_S4</td>\n",
       "      <td>anon_S1</td>\n",
       "      <td>540,000000</td>\n",
       "      <td>252.0</td>\n",
       "      <td>27743,400000</td>\n",
       "      <td>27743,400000</td>\n",
       "      <td>0</td>\n",
       "      <td>0</td>\n",
       "      <td>0</td>\n",
       "      <td>0</td>\n",
       "      <td>0</td>\n",
       "      <td>NaN</td>\n",
       "      <td>773,400000</td>\n",
       "    </tr>\n",
       "    <tr>\n",
       "      <th>2</th>\n",
       "      <td>201901</td>\n",
       "      <td>0</td>\n",
       "      <td>171786</td>\n",
       "      <td>anon_S0</td>\n",
       "      <td>anon_S5</td>\n",
       "      <td>anon_S6</td>\n",
       "      <td>anon_S1</td>\n",
       "      <td>54012,000000</td>\n",
       "      <td>1410.0</td>\n",
       "      <td>962860,200000</td>\n",
       "      <td>962860,200000</td>\n",
       "      <td>0</td>\n",
       "      <td>1</td>\n",
       "      <td>0</td>\n",
       "      <td>0</td>\n",
       "      <td>0</td>\n",
       "      <td>35,000000</td>\n",
       "      <td>341,400000</td>\n",
       "    </tr>\n",
       "    <tr>\n",
       "      <th>3</th>\n",
       "      <td>201813</td>\n",
       "      <td>0</td>\n",
       "      <td>177774</td>\n",
       "      <td>anon_S7</td>\n",
       "      <td>anon_S2</td>\n",
       "      <td>anon_S8</td>\n",
       "      <td>anon_S1</td>\n",
       "      <td>438,000000</td>\n",
       "      <td>NaN</td>\n",
       "      <td>7608,600000</td>\n",
       "      <td>7608,600000</td>\n",
       "      <td>0</td>\n",
       "      <td>0</td>\n",
       "      <td>0</td>\n",
       "      <td>0</td>\n",
       "      <td>0</td>\n",
       "      <td>NaN</td>\n",
       "      <td>450,900000</td>\n",
       "    </tr>\n",
       "    <tr>\n",
       "      <th>4</th>\n",
       "      <td>202006</td>\n",
       "      <td>1</td>\n",
       "      <td>446592</td>\n",
       "      <td>anon_S0</td>\n",
       "      <td>anon_S5</td>\n",
       "      <td>anon_S9</td>\n",
       "      <td>anon_S1</td>\n",
       "      <td>2760,000000</td>\n",
       "      <td>240.0</td>\n",
       "      <td>83339,400000</td>\n",
       "      <td>83339,400000</td>\n",
       "      <td>0</td>\n",
       "      <td>0</td>\n",
       "      <td>0</td>\n",
       "      <td>0</td>\n",
       "      <td>0</td>\n",
       "      <td>NaN</td>\n",
       "      <td>431,400000</td>\n",
       "    </tr>\n",
       "  </tbody>\n",
       "</table>\n",
       "</div>"
      ],
      "text/plain": [
       "   COD_CICLO  FLG_DATA  COD_MATERIAL COD_CANAL DES_CATEGORIA_MATERIAL  \\\n",
       "0     201917         1        431148   anon_S0                anon_S2   \n",
       "1     202005         0        177816   anon_S0                anon_S2   \n",
       "2     201901         0        171786   anon_S0                anon_S5   \n",
       "3     201813         0        177774   anon_S7                anon_S2   \n",
       "4     202006         1        446592   anon_S0                anon_S5   \n",
       "\n",
       "  DES_MARCA_MATERIAL COD_REGIAO QT_VENDA_BRUTO  QT_DEVOLUCAO VL_RECEITA_BRUTA  \\\n",
       "0            anon_S3    anon_S1   11934,000000         414.0    431869,080000   \n",
       "1            anon_S4    anon_S1     540,000000         252.0     27743,400000   \n",
       "2            anon_S6    anon_S1   54012,000000        1410.0    962860,200000   \n",
       "3            anon_S8    anon_S1     438,000000           NaN      7608,600000   \n",
       "4            anon_S9    anon_S1    2760,000000         240.0     83339,400000   \n",
       "\n",
       "  VL_RECEITA_LIQUIDA  FLG_CAMPANHA_MKT_A  FLG_CAMPANHA_MKT_B  \\\n",
       "0      431869,080000                   0                   0   \n",
       "1       27743,400000                   0                   0   \n",
       "2      962860,200000                   0                   1   \n",
       "3        7608,600000                   0                   0   \n",
       "4       83339,400000                   0                   0   \n",
       "\n",
       "   FLG_CAMPANHA_MKT_C  FLG_CAMPANHA_MKT_D  FLG_CAMPANHA_MKT_E PCT_DESCONTO  \\\n",
       "0                   0                   0                   0          NaN   \n",
       "1                   0                   0                   0          NaN   \n",
       "2                   0                   0                   0    35,000000   \n",
       "3                   0                   0                   0          NaN   \n",
       "4                   0                   0                   0          NaN   \n",
       "\n",
       "     VL_PRECO  \n",
       "0  455,400000  \n",
       "1  773,400000  \n",
       "2  341,400000  \n",
       "3  450,900000  \n",
       "4  431,400000  "
      ]
     },
     "execution_count": 4,
     "metadata": {},
     "output_type": "execute_result"
    }
   ],
   "source": [
    "# Obtendo o dataset\n",
    "df = pd.read_csv(\"dataset.csv\", delimiter = ';')\n",
    "\n",
    "df.head()"
   ]
  },
  {
   "cell_type": "code",
   "execution_count": 5,
   "id": "de038b2e",
   "metadata": {
    "ExecuteTime": {
     "end_time": "2024-08-22T10:07:00.162119Z",
     "start_time": "2024-08-22T10:07:00.134263Z"
    },
    "scrolled": true
   },
   "outputs": [
    {
     "data": {
      "text/html": [
       "<div>\n",
       "<style scoped>\n",
       "    .dataframe tbody tr th:only-of-type {\n",
       "        vertical-align: middle;\n",
       "    }\n",
       "\n",
       "    .dataframe tbody tr th {\n",
       "        vertical-align: top;\n",
       "    }\n",
       "\n",
       "    .dataframe thead th {\n",
       "        text-align: right;\n",
       "    }\n",
       "</style>\n",
       "<table border=\"1\" class=\"dataframe\">\n",
       "  <thead>\n",
       "    <tr style=\"text-align: right;\">\n",
       "      <th></th>\n",
       "      <th>feature</th>\n",
       "      <th>tipo_variavel</th>\n",
       "      <th>descricao</th>\n",
       "    </tr>\n",
       "  </thead>\n",
       "  <tbody>\n",
       "    <tr>\n",
       "      <th>0</th>\n",
       "      <td>COD_CICLO</td>\n",
       "      <td>Ordinal</td>\n",
       "      <td>Indicação de período definido por marketing</td>\n",
       "    </tr>\n",
       "    <tr>\n",
       "      <th>1</th>\n",
       "      <td>FLG_DATA_COMEMORATIVA</td>\n",
       "      <td>FLAG</td>\n",
       "      <td>Indicação se o ciclo pertence a alguma data co...</td>\n",
       "    </tr>\n",
       "    <tr>\n",
       "      <th>2</th>\n",
       "      <td>COD_MATERIAL</td>\n",
       "      <td>Categórica</td>\n",
       "      <td>Código referente ao material - SKU</td>\n",
       "    </tr>\n",
       "    <tr>\n",
       "      <th>3</th>\n",
       "      <td>COD_CANAL</td>\n",
       "      <td>Categórica</td>\n",
       "      <td>Em qual canal de vendas foi efetuada a venda d...</td>\n",
       "    </tr>\n",
       "    <tr>\n",
       "      <th>4</th>\n",
       "      <td>DES_CATEGORIA_MATERIAL</td>\n",
       "      <td>Categórica</td>\n",
       "      <td>Qual a categoria do material</td>\n",
       "    </tr>\n",
       "  </tbody>\n",
       "</table>\n",
       "</div>"
      ],
      "text/plain": [
       "                  feature tipo_variavel  \\\n",
       "0               COD_CICLO       Ordinal   \n",
       "1   FLG_DATA_COMEMORATIVA          FLAG   \n",
       "2            COD_MATERIAL    Categórica   \n",
       "3               COD_CANAL    Categórica   \n",
       "4  DES_CATEGORIA_MATERIAL    Categórica   \n",
       "\n",
       "                                           descricao  \n",
       "0        Indicação de período definido por marketing  \n",
       "1  Indicação se o ciclo pertence a alguma data co...  \n",
       "2                 Código referente ao material - SKU  \n",
       "3  Em qual canal de vendas foi efetuada a venda d...  \n",
       "4                       Qual a categoria do material  "
      ]
     },
     "execution_count": 5,
     "metadata": {},
     "output_type": "execute_result"
    }
   ],
   "source": [
    "# Obtendo o dicionário com as informações das colunas\n",
    "df_dictionario = pd.read_csv(\"dicionario de dados.csv\", delimiter = ',', header = 1)\n",
    "\n",
    "# Ajuste nos nomes das colunas para que fique minusculo, sem acento e sem espaço\n",
    "df_dictionario.columns = [unidecode(x).lower().replace(\" \", \"_\") for x in df_dictionario.columns]\n",
    "\n",
    "df_dictionario.head()"
   ]
  },
  {
   "cell_type": "code",
   "execution_count": 6,
   "id": "6324b9e8",
   "metadata": {
    "ExecuteTime": {
     "end_time": "2024-08-22T10:07:00.239302Z",
     "start_time": "2024-08-22T10:07:00.166313Z"
    }
   },
   "outputs": [
    {
     "name": "stdout",
     "output_type": "stream",
     "text": [
      "<class 'pandas.core.frame.DataFrame'>\n",
      "RangeIndex: 173923 entries, 0 to 173922\n",
      "Data columns (total 18 columns):\n",
      " #   Column                  Non-Null Count   Dtype  \n",
      "---  ------                  --------------   -----  \n",
      " 0   COD_CICLO               173923 non-null  int64  \n",
      " 1   FLG_DATA                173923 non-null  int64  \n",
      " 2   COD_MATERIAL            173923 non-null  int64  \n",
      " 3   COD_CANAL               173923 non-null  object \n",
      " 4   DES_CATEGORIA_MATERIAL  173923 non-null  object \n",
      " 5   DES_MARCA_MATERIAL      173923 non-null  object \n",
      " 6   COD_REGIAO              173923 non-null  object \n",
      " 7   QT_VENDA_BRUTO          173923 non-null  object \n",
      " 8   QT_DEVOLUCAO            87164 non-null   float64\n",
      " 9   VL_RECEITA_BRUTA        173923 non-null  object \n",
      " 10  VL_RECEITA_LIQUIDA      173923 non-null  object \n",
      " 11  FLG_CAMPANHA_MKT_A      173923 non-null  int64  \n",
      " 12  FLG_CAMPANHA_MKT_B      173923 non-null  int64  \n",
      " 13  FLG_CAMPANHA_MKT_C      173923 non-null  int64  \n",
      " 14  FLG_CAMPANHA_MKT_D      173923 non-null  int64  \n",
      " 15  FLG_CAMPANHA_MKT_E      173923 non-null  int64  \n",
      " 16  PCT_DESCONTO            56951 non-null   object \n",
      " 17  VL_PRECO                173923 non-null  object \n",
      "dtypes: float64(1), int64(8), object(9)\n",
      "memory usage: 23.9+ MB\n"
     ]
    }
   ],
   "source": [
    "df.info()"
   ]
  },
  {
   "cell_type": "markdown",
   "id": "bb351725",
   "metadata": {},
   "source": [
    "# 4. Tratamento dos dados"
   ]
  },
  {
   "cell_type": "markdown",
   "id": "4b42eb2c",
   "metadata": {},
   "source": [
    "## 4.1. Ajustando o tipo de valores"
   ]
  },
  {
   "cell_type": "code",
   "execution_count": 7,
   "id": "9a96ea60",
   "metadata": {
    "ExecuteTime": {
     "end_time": "2024-08-22T10:07:01.261184Z",
     "start_time": "2024-08-22T10:07:00.241304Z"
    }
   },
   "outputs": [],
   "source": [
    "# Criando as listas com os tipos de cada coluna\n",
    "tipos_variaveis = df_dictionario.groupby('tipo_variavel')['feature'].apply(list).to_dict()\n",
    "\n",
    "# Removendo o FLG_DATA_COMEMORATIVA pois não tem no dataframe\n",
    "tipos_variaveis['FLAG'].remove('FLG_DATA_COMEMORATIVA')\n",
    "\n",
    "lista_categoricas = tipos_variaveis.get('Categórica', [])\n",
    "lista_ordinal = tipos_variaveis.get('Ordinal', [])\n",
    "lista_flag = tipos_variaveis.get('FLAG', [])\n",
    "lista_continua = tipos_variaveis.get('Continua', [])\n",
    "\n",
    "# Ajustando de objeto para float\n",
    "for i in df.columns:\n",
    "    if i in lista_continua and df[i].dtype != 'float64':\n",
    "        df[i] = df[i].apply(lambda x: float(x.replace(',', '.')) if pd.notna(x) else x)"
   ]
  },
  {
   "cell_type": "markdown",
   "id": "64bb0859",
   "metadata": {},
   "source": [
    "## 4.2. Preenchendo valores vazios"
   ]
  },
  {
   "cell_type": "code",
   "execution_count": 8,
   "id": "e26b2469",
   "metadata": {
    "ExecuteTime": {
     "end_time": "2024-08-22T10:07:01.352786Z",
     "start_time": "2024-08-22T10:07:01.262314Z"
    }
   },
   "outputs": [
    {
     "name": "stdout",
     "output_type": "stream",
     "text": [
      "<class 'pandas.core.frame.DataFrame'>\n",
      "RangeIndex: 173923 entries, 0 to 173922\n",
      "Data columns (total 18 columns):\n",
      " #   Column                  Non-Null Count   Dtype  \n",
      "---  ------                  --------------   -----  \n",
      " 0   COD_CICLO               173923 non-null  int64  \n",
      " 1   FLG_DATA                173923 non-null  int64  \n",
      " 2   COD_MATERIAL            173923 non-null  int64  \n",
      " 3   COD_CANAL               173923 non-null  object \n",
      " 4   DES_CATEGORIA_MATERIAL  173923 non-null  object \n",
      " 5   DES_MARCA_MATERIAL      173923 non-null  object \n",
      " 6   COD_REGIAO              173923 non-null  object \n",
      " 7   QT_VENDA_BRUTO          173923 non-null  float64\n",
      " 8   QT_DEVOLUCAO            173923 non-null  float64\n",
      " 9   VL_RECEITA_BRUTA        173923 non-null  float64\n",
      " 10  VL_RECEITA_LIQUIDA      173923 non-null  float64\n",
      " 11  FLG_CAMPANHA_MKT_A      173923 non-null  int64  \n",
      " 12  FLG_CAMPANHA_MKT_B      173923 non-null  int64  \n",
      " 13  FLG_CAMPANHA_MKT_C      173923 non-null  int64  \n",
      " 14  FLG_CAMPANHA_MKT_D      173923 non-null  int64  \n",
      " 15  FLG_CAMPANHA_MKT_E      173923 non-null  int64  \n",
      " 16  PCT_DESCONTO            173923 non-null  float64\n",
      " 17  VL_PRECO                173923 non-null  float64\n",
      "dtypes: float64(6), int64(8), object(4)\n",
      "memory usage: 23.9+ MB\n"
     ]
    }
   ],
   "source": [
    "\"\"\"\n",
    "As colunas que tem valores nulos são QT_DEVOLUCAO e PCT_DESCONTO, nesse caso vou considerar como sendo 0, ou seja,\n",
    "não teve devolução e não teve pacote de desconto\n",
    "\"\"\"\n",
    "df = df.fillna(0.0)\n",
    "\n",
    "df.info()"
   ]
  },
  {
   "cell_type": "markdown",
   "id": "37c1600f",
   "metadata": {},
   "source": [
    "## 4.3. Alterar os dados da coluna COD_CICLO de string para datetime e criando as features de data"
   ]
  },
  {
   "cell_type": "code",
   "execution_count": 9,
   "id": "8897e122",
   "metadata": {
    "ExecuteTime": {
     "end_time": "2024-08-22T10:07:01.368864Z",
     "start_time": "2024-08-22T10:07:01.355348Z"
    }
   },
   "outputs": [
    {
     "data": {
      "text/plain": [
       "array([201917, 202005, 201901, 201813, 202006, 202017, 201814, 202007,\n",
       "       201804, 201818, 201802, 201806, 202010, 201913, 201812, 201809,\n",
       "       202004, 201805, 201910, 201807, 202011, 202015, 201912, 202003,\n",
       "       201903, 202009, 201904, 201911, 201801, 201914, 202012, 202014,\n",
       "       201909, 202013, 201916, 201907, 201803, 202008, 201902, 201905,\n",
       "       202002, 201810, 201815, 201816, 201808, 201817, 202016, 202101,\n",
       "       201908, 201906, 201811, 202001, 201915], dtype=int64)"
      ]
     },
     "execution_count": 9,
     "metadata": {},
     "output_type": "execute_result"
    }
   ],
   "source": [
    "\"\"\"\n",
    "Os valores do COD_CICLO inicia com o ano seguido de um número com dois valores, como é maior que 12 \n",
    "então não é o mês, sendo assim considerei como sendo a semana do ano\n",
    "\"\"\"\n",
    "\n",
    "df['COD_CICLO'].unique()"
   ]
  },
  {
   "cell_type": "code",
   "execution_count": 10,
   "id": "db6f3d47",
   "metadata": {
    "ExecuteTime": {
     "end_time": "2024-08-22T10:07:02.224813Z",
     "start_time": "2024-08-22T10:07:01.369750Z"
    }
   },
   "outputs": [],
   "source": [
    "# Ajustando os valores da coluna para que seja datetime\n",
    "df['data'] = df['COD_CICLO'].apply(week_to_date)"
   ]
  },
  {
   "cell_type": "code",
   "execution_count": 11,
   "id": "01ace993",
   "metadata": {
    "ExecuteTime": {
     "end_time": "2024-08-22T10:07:02.319051Z",
     "start_time": "2024-08-22T10:07:02.225816Z"
    }
   },
   "outputs": [],
   "source": [
    "# Criar features a partir da data\n",
    "df['ano'] = df['data'].dt.year\n",
    "df['mes'] = df['data'].dt.month\n",
    "df['dia'] = df['data'].dt.day\n",
    "df['dia_da_semana'] = df['data'].dt.dayofweek\n",
    "df['semana_do_ano'] = df['data'].dt.isocalendar().week\n",
    "df['dia_do_ano'] = df['data'].dt.dayofyear"
   ]
  },
  {
   "cell_type": "markdown",
   "id": "07cce3e8",
   "metadata": {},
   "source": [
    "# 5. Escolha do modelo\n",
    "\n",
    "\n",
    "o RandomForestRegressor pode ser eficaz porque permite capturar padrões complexos e não lineares nas vendas, ajudando a fazer previsões mais precisas e robustas com base em várias características que afetam as vendas."
   ]
  },
  {
   "cell_type": "code",
   "execution_count": 12,
   "id": "95df8144",
   "metadata": {
    "ExecuteTime": {
     "end_time": "2024-08-22T10:07:02.412865Z",
     "start_time": "2024-08-22T10:07:02.319994Z"
    }
   },
   "outputs": [],
   "source": [
    "# Dividir dados\n",
    "X = df.drop(['data', 'VL_RECEITA_LIQUIDA'], axis=1)\n",
    "y = df['VL_RECEITA_LIQUIDA']\n",
    "\n",
    "X_train, X_test, y_train, y_test = train_test_split(X, y, test_size=0.2, random_state=42)"
   ]
  },
  {
   "cell_type": "code",
   "execution_count": 13,
   "id": "39f24d65",
   "metadata": {
    "ExecuteTime": {
     "end_time": "2024-08-22T10:07:02.428957Z",
     "start_time": "2024-08-22T10:07:02.414370Z"
    }
   },
   "outputs": [],
   "source": [
    "# Definindo as métricas de ajuste das colunas\n",
    "\n",
    "\"\"\"\n",
    "- O ColumnTransformer permite aplicar transformações diferentes para tipos diferentes de colunas nos dados\n",
    "- O RobustScaler normaliza os dados numéricos que possuem outliers\n",
    "\n",
    "\"\"\"\n",
    "t = [('num', RobustScaler(), ['ano', 'mes', 'dia', 'dia_da_semana', 'semana_do_ano', 'dia_do_ano'])]\n",
    "\n",
    "preprocessor = ColumnTransformer(transformers = t)\n"
   ]
  },
  {
   "cell_type": "code",
   "execution_count": 14,
   "id": "ed67ca60",
   "metadata": {
    "ExecuteTime": {
     "end_time": "2024-08-22T10:07:08.118322Z",
     "start_time": "2024-08-22T10:07:02.435620Z"
    },
    "scrolled": true
   },
   "outputs": [
    {
     "data": {
      "text/html": [
       "<style>#sk-container-id-1 {\n",
       "  /* Definition of color scheme common for light and dark mode */\n",
       "  --sklearn-color-text: black;\n",
       "  --sklearn-color-line: gray;\n",
       "  /* Definition of color scheme for unfitted estimators */\n",
       "  --sklearn-color-unfitted-level-0: #fff5e6;\n",
       "  --sklearn-color-unfitted-level-1: #f6e4d2;\n",
       "  --sklearn-color-unfitted-level-2: #ffe0b3;\n",
       "  --sklearn-color-unfitted-level-3: chocolate;\n",
       "  /* Definition of color scheme for fitted estimators */\n",
       "  --sklearn-color-fitted-level-0: #f0f8ff;\n",
       "  --sklearn-color-fitted-level-1: #d4ebff;\n",
       "  --sklearn-color-fitted-level-2: #b3dbfd;\n",
       "  --sklearn-color-fitted-level-3: cornflowerblue;\n",
       "\n",
       "  /* Specific color for light theme */\n",
       "  --sklearn-color-text-on-default-background: var(--sg-text-color, var(--theme-code-foreground, var(--jp-content-font-color1, black)));\n",
       "  --sklearn-color-background: var(--sg-background-color, var(--theme-background, var(--jp-layout-color0, white)));\n",
       "  --sklearn-color-border-box: var(--sg-text-color, var(--theme-code-foreground, var(--jp-content-font-color1, black)));\n",
       "  --sklearn-color-icon: #696969;\n",
       "\n",
       "  @media (prefers-color-scheme: dark) {\n",
       "    /* Redefinition of color scheme for dark theme */\n",
       "    --sklearn-color-text-on-default-background: var(--sg-text-color, var(--theme-code-foreground, var(--jp-content-font-color1, white)));\n",
       "    --sklearn-color-background: var(--sg-background-color, var(--theme-background, var(--jp-layout-color0, #111)));\n",
       "    --sklearn-color-border-box: var(--sg-text-color, var(--theme-code-foreground, var(--jp-content-font-color1, white)));\n",
       "    --sklearn-color-icon: #878787;\n",
       "  }\n",
       "}\n",
       "\n",
       "#sk-container-id-1 {\n",
       "  color: var(--sklearn-color-text);\n",
       "}\n",
       "\n",
       "#sk-container-id-1 pre {\n",
       "  padding: 0;\n",
       "}\n",
       "\n",
       "#sk-container-id-1 input.sk-hidden--visually {\n",
       "  border: 0;\n",
       "  clip: rect(1px 1px 1px 1px);\n",
       "  clip: rect(1px, 1px, 1px, 1px);\n",
       "  height: 1px;\n",
       "  margin: -1px;\n",
       "  overflow: hidden;\n",
       "  padding: 0;\n",
       "  position: absolute;\n",
       "  width: 1px;\n",
       "}\n",
       "\n",
       "#sk-container-id-1 div.sk-dashed-wrapped {\n",
       "  border: 1px dashed var(--sklearn-color-line);\n",
       "  margin: 0 0.4em 0.5em 0.4em;\n",
       "  box-sizing: border-box;\n",
       "  padding-bottom: 0.4em;\n",
       "  background-color: var(--sklearn-color-background);\n",
       "}\n",
       "\n",
       "#sk-container-id-1 div.sk-container {\n",
       "  /* jupyter's `normalize.less` sets `[hidden] { display: none; }`\n",
       "     but bootstrap.min.css set `[hidden] { display: none !important; }`\n",
       "     so we also need the `!important` here to be able to override the\n",
       "     default hidden behavior on the sphinx rendered scikit-learn.org.\n",
       "     See: https://github.com/scikit-learn/scikit-learn/issues/21755 */\n",
       "  display: inline-block !important;\n",
       "  position: relative;\n",
       "}\n",
       "\n",
       "#sk-container-id-1 div.sk-text-repr-fallback {\n",
       "  display: none;\n",
       "}\n",
       "\n",
       "div.sk-parallel-item,\n",
       "div.sk-serial,\n",
       "div.sk-item {\n",
       "  /* draw centered vertical line to link estimators */\n",
       "  background-image: linear-gradient(var(--sklearn-color-text-on-default-background), var(--sklearn-color-text-on-default-background));\n",
       "  background-size: 2px 100%;\n",
       "  background-repeat: no-repeat;\n",
       "  background-position: center center;\n",
       "}\n",
       "\n",
       "/* Parallel-specific style estimator block */\n",
       "\n",
       "#sk-container-id-1 div.sk-parallel-item::after {\n",
       "  content: \"\";\n",
       "  width: 100%;\n",
       "  border-bottom: 2px solid var(--sklearn-color-text-on-default-background);\n",
       "  flex-grow: 1;\n",
       "}\n",
       "\n",
       "#sk-container-id-1 div.sk-parallel {\n",
       "  display: flex;\n",
       "  align-items: stretch;\n",
       "  justify-content: center;\n",
       "  background-color: var(--sklearn-color-background);\n",
       "  position: relative;\n",
       "}\n",
       "\n",
       "#sk-container-id-1 div.sk-parallel-item {\n",
       "  display: flex;\n",
       "  flex-direction: column;\n",
       "}\n",
       "\n",
       "#sk-container-id-1 div.sk-parallel-item:first-child::after {\n",
       "  align-self: flex-end;\n",
       "  width: 50%;\n",
       "}\n",
       "\n",
       "#sk-container-id-1 div.sk-parallel-item:last-child::after {\n",
       "  align-self: flex-start;\n",
       "  width: 50%;\n",
       "}\n",
       "\n",
       "#sk-container-id-1 div.sk-parallel-item:only-child::after {\n",
       "  width: 0;\n",
       "}\n",
       "\n",
       "/* Serial-specific style estimator block */\n",
       "\n",
       "#sk-container-id-1 div.sk-serial {\n",
       "  display: flex;\n",
       "  flex-direction: column;\n",
       "  align-items: center;\n",
       "  background-color: var(--sklearn-color-background);\n",
       "  padding-right: 1em;\n",
       "  padding-left: 1em;\n",
       "}\n",
       "\n",
       "\n",
       "/* Toggleable style: style used for estimator/Pipeline/ColumnTransformer box that is\n",
       "clickable and can be expanded/collapsed.\n",
       "- Pipeline and ColumnTransformer use this feature and define the default style\n",
       "- Estimators will overwrite some part of the style using the `sk-estimator` class\n",
       "*/\n",
       "\n",
       "/* Pipeline and ColumnTransformer style (default) */\n",
       "\n",
       "#sk-container-id-1 div.sk-toggleable {\n",
       "  /* Default theme specific background. It is overwritten whether we have a\n",
       "  specific estimator or a Pipeline/ColumnTransformer */\n",
       "  background-color: var(--sklearn-color-background);\n",
       "}\n",
       "\n",
       "/* Toggleable label */\n",
       "#sk-container-id-1 label.sk-toggleable__label {\n",
       "  cursor: pointer;\n",
       "  display: block;\n",
       "  width: 100%;\n",
       "  margin-bottom: 0;\n",
       "  padding: 0.5em;\n",
       "  box-sizing: border-box;\n",
       "  text-align: center;\n",
       "}\n",
       "\n",
       "#sk-container-id-1 label.sk-toggleable__label-arrow:before {\n",
       "  /* Arrow on the left of the label */\n",
       "  content: \"▸\";\n",
       "  float: left;\n",
       "  margin-right: 0.25em;\n",
       "  color: var(--sklearn-color-icon);\n",
       "}\n",
       "\n",
       "#sk-container-id-1 label.sk-toggleable__label-arrow:hover:before {\n",
       "  color: var(--sklearn-color-text);\n",
       "}\n",
       "\n",
       "/* Toggleable content - dropdown */\n",
       "\n",
       "#sk-container-id-1 div.sk-toggleable__content {\n",
       "  max-height: 0;\n",
       "  max-width: 0;\n",
       "  overflow: hidden;\n",
       "  text-align: left;\n",
       "  /* unfitted */\n",
       "  background-color: var(--sklearn-color-unfitted-level-0);\n",
       "}\n",
       "\n",
       "#sk-container-id-1 div.sk-toggleable__content.fitted {\n",
       "  /* fitted */\n",
       "  background-color: var(--sklearn-color-fitted-level-0);\n",
       "}\n",
       "\n",
       "#sk-container-id-1 div.sk-toggleable__content pre {\n",
       "  margin: 0.2em;\n",
       "  border-radius: 0.25em;\n",
       "  color: var(--sklearn-color-text);\n",
       "  /* unfitted */\n",
       "  background-color: var(--sklearn-color-unfitted-level-0);\n",
       "}\n",
       "\n",
       "#sk-container-id-1 div.sk-toggleable__content.fitted pre {\n",
       "  /* unfitted */\n",
       "  background-color: var(--sklearn-color-fitted-level-0);\n",
       "}\n",
       "\n",
       "#sk-container-id-1 input.sk-toggleable__control:checked~div.sk-toggleable__content {\n",
       "  /* Expand drop-down */\n",
       "  max-height: 200px;\n",
       "  max-width: 100%;\n",
       "  overflow: auto;\n",
       "}\n",
       "\n",
       "#sk-container-id-1 input.sk-toggleable__control:checked~label.sk-toggleable__label-arrow:before {\n",
       "  content: \"▾\";\n",
       "}\n",
       "\n",
       "/* Pipeline/ColumnTransformer-specific style */\n",
       "\n",
       "#sk-container-id-1 div.sk-label input.sk-toggleable__control:checked~label.sk-toggleable__label {\n",
       "  color: var(--sklearn-color-text);\n",
       "  background-color: var(--sklearn-color-unfitted-level-2);\n",
       "}\n",
       "\n",
       "#sk-container-id-1 div.sk-label.fitted input.sk-toggleable__control:checked~label.sk-toggleable__label {\n",
       "  background-color: var(--sklearn-color-fitted-level-2);\n",
       "}\n",
       "\n",
       "/* Estimator-specific style */\n",
       "\n",
       "/* Colorize estimator box */\n",
       "#sk-container-id-1 div.sk-estimator input.sk-toggleable__control:checked~label.sk-toggleable__label {\n",
       "  /* unfitted */\n",
       "  background-color: var(--sklearn-color-unfitted-level-2);\n",
       "}\n",
       "\n",
       "#sk-container-id-1 div.sk-estimator.fitted input.sk-toggleable__control:checked~label.sk-toggleable__label {\n",
       "  /* fitted */\n",
       "  background-color: var(--sklearn-color-fitted-level-2);\n",
       "}\n",
       "\n",
       "#sk-container-id-1 div.sk-label label.sk-toggleable__label,\n",
       "#sk-container-id-1 div.sk-label label {\n",
       "  /* The background is the default theme color */\n",
       "  color: var(--sklearn-color-text-on-default-background);\n",
       "}\n",
       "\n",
       "/* On hover, darken the color of the background */\n",
       "#sk-container-id-1 div.sk-label:hover label.sk-toggleable__label {\n",
       "  color: var(--sklearn-color-text);\n",
       "  background-color: var(--sklearn-color-unfitted-level-2);\n",
       "}\n",
       "\n",
       "/* Label box, darken color on hover, fitted */\n",
       "#sk-container-id-1 div.sk-label.fitted:hover label.sk-toggleable__label.fitted {\n",
       "  color: var(--sklearn-color-text);\n",
       "  background-color: var(--sklearn-color-fitted-level-2);\n",
       "}\n",
       "\n",
       "/* Estimator label */\n",
       "\n",
       "#sk-container-id-1 div.sk-label label {\n",
       "  font-family: monospace;\n",
       "  font-weight: bold;\n",
       "  display: inline-block;\n",
       "  line-height: 1.2em;\n",
       "}\n",
       "\n",
       "#sk-container-id-1 div.sk-label-container {\n",
       "  text-align: center;\n",
       "}\n",
       "\n",
       "/* Estimator-specific */\n",
       "#sk-container-id-1 div.sk-estimator {\n",
       "  font-family: monospace;\n",
       "  border: 1px dotted var(--sklearn-color-border-box);\n",
       "  border-radius: 0.25em;\n",
       "  box-sizing: border-box;\n",
       "  margin-bottom: 0.5em;\n",
       "  /* unfitted */\n",
       "  background-color: var(--sklearn-color-unfitted-level-0);\n",
       "}\n",
       "\n",
       "#sk-container-id-1 div.sk-estimator.fitted {\n",
       "  /* fitted */\n",
       "  background-color: var(--sklearn-color-fitted-level-0);\n",
       "}\n",
       "\n",
       "/* on hover */\n",
       "#sk-container-id-1 div.sk-estimator:hover {\n",
       "  /* unfitted */\n",
       "  background-color: var(--sklearn-color-unfitted-level-2);\n",
       "}\n",
       "\n",
       "#sk-container-id-1 div.sk-estimator.fitted:hover {\n",
       "  /* fitted */\n",
       "  background-color: var(--sklearn-color-fitted-level-2);\n",
       "}\n",
       "\n",
       "/* Specification for estimator info (e.g. \"i\" and \"?\") */\n",
       "\n",
       "/* Common style for \"i\" and \"?\" */\n",
       "\n",
       ".sk-estimator-doc-link,\n",
       "a:link.sk-estimator-doc-link,\n",
       "a:visited.sk-estimator-doc-link {\n",
       "  float: right;\n",
       "  font-size: smaller;\n",
       "  line-height: 1em;\n",
       "  font-family: monospace;\n",
       "  background-color: var(--sklearn-color-background);\n",
       "  border-radius: 1em;\n",
       "  height: 1em;\n",
       "  width: 1em;\n",
       "  text-decoration: none !important;\n",
       "  margin-left: 1ex;\n",
       "  /* unfitted */\n",
       "  border: var(--sklearn-color-unfitted-level-1) 1pt solid;\n",
       "  color: var(--sklearn-color-unfitted-level-1);\n",
       "}\n",
       "\n",
       ".sk-estimator-doc-link.fitted,\n",
       "a:link.sk-estimator-doc-link.fitted,\n",
       "a:visited.sk-estimator-doc-link.fitted {\n",
       "  /* fitted */\n",
       "  border: var(--sklearn-color-fitted-level-1) 1pt solid;\n",
       "  color: var(--sklearn-color-fitted-level-1);\n",
       "}\n",
       "\n",
       "/* On hover */\n",
       "div.sk-estimator:hover .sk-estimator-doc-link:hover,\n",
       ".sk-estimator-doc-link:hover,\n",
       "div.sk-label-container:hover .sk-estimator-doc-link:hover,\n",
       ".sk-estimator-doc-link:hover {\n",
       "  /* unfitted */\n",
       "  background-color: var(--sklearn-color-unfitted-level-3);\n",
       "  color: var(--sklearn-color-background);\n",
       "  text-decoration: none;\n",
       "}\n",
       "\n",
       "div.sk-estimator.fitted:hover .sk-estimator-doc-link.fitted:hover,\n",
       ".sk-estimator-doc-link.fitted:hover,\n",
       "div.sk-label-container:hover .sk-estimator-doc-link.fitted:hover,\n",
       ".sk-estimator-doc-link.fitted:hover {\n",
       "  /* fitted */\n",
       "  background-color: var(--sklearn-color-fitted-level-3);\n",
       "  color: var(--sklearn-color-background);\n",
       "  text-decoration: none;\n",
       "}\n",
       "\n",
       "/* Span, style for the box shown on hovering the info icon */\n",
       ".sk-estimator-doc-link span {\n",
       "  display: none;\n",
       "  z-index: 9999;\n",
       "  position: relative;\n",
       "  font-weight: normal;\n",
       "  right: .2ex;\n",
       "  padding: .5ex;\n",
       "  margin: .5ex;\n",
       "  width: min-content;\n",
       "  min-width: 20ex;\n",
       "  max-width: 50ex;\n",
       "  color: var(--sklearn-color-text);\n",
       "  box-shadow: 2pt 2pt 4pt #999;\n",
       "  /* unfitted */\n",
       "  background: var(--sklearn-color-unfitted-level-0);\n",
       "  border: .5pt solid var(--sklearn-color-unfitted-level-3);\n",
       "}\n",
       "\n",
       ".sk-estimator-doc-link.fitted span {\n",
       "  /* fitted */\n",
       "  background: var(--sklearn-color-fitted-level-0);\n",
       "  border: var(--sklearn-color-fitted-level-3);\n",
       "}\n",
       "\n",
       ".sk-estimator-doc-link:hover span {\n",
       "  display: block;\n",
       "}\n",
       "\n",
       "/* \"?\"-specific style due to the `<a>` HTML tag */\n",
       "\n",
       "#sk-container-id-1 a.estimator_doc_link {\n",
       "  float: right;\n",
       "  font-size: 1rem;\n",
       "  line-height: 1em;\n",
       "  font-family: monospace;\n",
       "  background-color: var(--sklearn-color-background);\n",
       "  border-radius: 1rem;\n",
       "  height: 1rem;\n",
       "  width: 1rem;\n",
       "  text-decoration: none;\n",
       "  /* unfitted */\n",
       "  color: var(--sklearn-color-unfitted-level-1);\n",
       "  border: var(--sklearn-color-unfitted-level-1) 1pt solid;\n",
       "}\n",
       "\n",
       "#sk-container-id-1 a.estimator_doc_link.fitted {\n",
       "  /* fitted */\n",
       "  border: var(--sklearn-color-fitted-level-1) 1pt solid;\n",
       "  color: var(--sklearn-color-fitted-level-1);\n",
       "}\n",
       "\n",
       "/* On hover */\n",
       "#sk-container-id-1 a.estimator_doc_link:hover {\n",
       "  /* unfitted */\n",
       "  background-color: var(--sklearn-color-unfitted-level-3);\n",
       "  color: var(--sklearn-color-background);\n",
       "  text-decoration: none;\n",
       "}\n",
       "\n",
       "#sk-container-id-1 a.estimator_doc_link.fitted:hover {\n",
       "  /* fitted */\n",
       "  background-color: var(--sklearn-color-fitted-level-3);\n",
       "}\n",
       "</style><div id=\"sk-container-id-1\" class=\"sk-top-container\"><div class=\"sk-text-repr-fallback\"><pre>Pipeline(steps=[(&#x27;preprocessor&#x27;,\n",
       "                 ColumnTransformer(transformers=[(&#x27;num&#x27;, RobustScaler(),\n",
       "                                                  [&#x27;ano&#x27;, &#x27;mes&#x27;, &#x27;dia&#x27;,\n",
       "                                                   &#x27;dia_da_semana&#x27;,\n",
       "                                                   &#x27;semana_do_ano&#x27;,\n",
       "                                                   &#x27;dia_do_ano&#x27;])])),\n",
       "                (&#x27;model&#x27;, RandomForestRegressor(random_state=42))])</pre><b>In a Jupyter environment, please rerun this cell to show the HTML representation or trust the notebook. <br />On GitHub, the HTML representation is unable to render, please try loading this page with nbviewer.org.</b></div><div class=\"sk-container\" hidden><div class=\"sk-item sk-dashed-wrapped\"><div class=\"sk-label-container\"><div class=\"sk-label fitted sk-toggleable\"><input class=\"sk-toggleable__control sk-hidden--visually\" id=\"sk-estimator-id-1\" type=\"checkbox\" ><label for=\"sk-estimator-id-1\" class=\"sk-toggleable__label fitted sk-toggleable__label-arrow fitted\">&nbsp;&nbsp;Pipeline<a class=\"sk-estimator-doc-link fitted\" rel=\"noreferrer\" target=\"_blank\" href=\"https://scikit-learn.org/1.5/modules/generated/sklearn.pipeline.Pipeline.html\">?<span>Documentation for Pipeline</span></a><span class=\"sk-estimator-doc-link fitted\">i<span>Fitted</span></span></label><div class=\"sk-toggleable__content fitted\"><pre>Pipeline(steps=[(&#x27;preprocessor&#x27;,\n",
       "                 ColumnTransformer(transformers=[(&#x27;num&#x27;, RobustScaler(),\n",
       "                                                  [&#x27;ano&#x27;, &#x27;mes&#x27;, &#x27;dia&#x27;,\n",
       "                                                   &#x27;dia_da_semana&#x27;,\n",
       "                                                   &#x27;semana_do_ano&#x27;,\n",
       "                                                   &#x27;dia_do_ano&#x27;])])),\n",
       "                (&#x27;model&#x27;, RandomForestRegressor(random_state=42))])</pre></div> </div></div><div class=\"sk-serial\"><div class=\"sk-item sk-dashed-wrapped\"><div class=\"sk-label-container\"><div class=\"sk-label fitted sk-toggleable\"><input class=\"sk-toggleable__control sk-hidden--visually\" id=\"sk-estimator-id-2\" type=\"checkbox\" ><label for=\"sk-estimator-id-2\" class=\"sk-toggleable__label fitted sk-toggleable__label-arrow fitted\">&nbsp;preprocessor: ColumnTransformer<a class=\"sk-estimator-doc-link fitted\" rel=\"noreferrer\" target=\"_blank\" href=\"https://scikit-learn.org/1.5/modules/generated/sklearn.compose.ColumnTransformer.html\">?<span>Documentation for preprocessor: ColumnTransformer</span></a></label><div class=\"sk-toggleable__content fitted\"><pre>ColumnTransformer(transformers=[(&#x27;num&#x27;, RobustScaler(),\n",
       "                                 [&#x27;ano&#x27;, &#x27;mes&#x27;, &#x27;dia&#x27;, &#x27;dia_da_semana&#x27;,\n",
       "                                  &#x27;semana_do_ano&#x27;, &#x27;dia_do_ano&#x27;])])</pre></div> </div></div><div class=\"sk-parallel\"><div class=\"sk-parallel-item\"><div class=\"sk-item\"><div class=\"sk-label-container\"><div class=\"sk-label fitted sk-toggleable\"><input class=\"sk-toggleable__control sk-hidden--visually\" id=\"sk-estimator-id-3\" type=\"checkbox\" ><label for=\"sk-estimator-id-3\" class=\"sk-toggleable__label fitted sk-toggleable__label-arrow fitted\">num</label><div class=\"sk-toggleable__content fitted\"><pre>[&#x27;ano&#x27;, &#x27;mes&#x27;, &#x27;dia&#x27;, &#x27;dia_da_semana&#x27;, &#x27;semana_do_ano&#x27;, &#x27;dia_do_ano&#x27;]</pre></div> </div></div><div class=\"sk-serial\"><div class=\"sk-item\"><div class=\"sk-estimator fitted sk-toggleable\"><input class=\"sk-toggleable__control sk-hidden--visually\" id=\"sk-estimator-id-4\" type=\"checkbox\" ><label for=\"sk-estimator-id-4\" class=\"sk-toggleable__label fitted sk-toggleable__label-arrow fitted\">&nbsp;RobustScaler<a class=\"sk-estimator-doc-link fitted\" rel=\"noreferrer\" target=\"_blank\" href=\"https://scikit-learn.org/1.5/modules/generated/sklearn.preprocessing.RobustScaler.html\">?<span>Documentation for RobustScaler</span></a></label><div class=\"sk-toggleable__content fitted\"><pre>RobustScaler()</pre></div> </div></div></div></div></div></div></div><div class=\"sk-item\"><div class=\"sk-estimator fitted sk-toggleable\"><input class=\"sk-toggleable__control sk-hidden--visually\" id=\"sk-estimator-id-5\" type=\"checkbox\" ><label for=\"sk-estimator-id-5\" class=\"sk-toggleable__label fitted sk-toggleable__label-arrow fitted\">&nbsp;RandomForestRegressor<a class=\"sk-estimator-doc-link fitted\" rel=\"noreferrer\" target=\"_blank\" href=\"https://scikit-learn.org/1.5/modules/generated/sklearn.ensemble.RandomForestRegressor.html\">?<span>Documentation for RandomForestRegressor</span></a></label><div class=\"sk-toggleable__content fitted\"><pre>RandomForestRegressor(random_state=42)</pre></div> </div></div></div></div></div></div>"
      ],
      "text/plain": [
       "Pipeline(steps=[('preprocessor',\n",
       "                 ColumnTransformer(transformers=[('num', RobustScaler(),\n",
       "                                                  ['ano', 'mes', 'dia',\n",
       "                                                   'dia_da_semana',\n",
       "                                                   'semana_do_ano',\n",
       "                                                   'dia_do_ano'])])),\n",
       "                ('model', RandomForestRegressor(random_state=42))])"
      ]
     },
     "execution_count": 14,
     "metadata": {},
     "output_type": "execute_result"
    }
   ],
   "source": [
    "# Pipeline de pré-processamento e modelagem\n",
    "pipeline = Pipeline(steps=[\n",
    "    ('preprocessor', preprocessor),\n",
    "    ('model', RandomForestRegressor(n_estimators=100, random_state=42))\n",
    "])\n",
    "\n",
    "# Treinar o modelo\n",
    "pipeline.fit(X_train, y_train)\n"
   ]
  },
  {
   "cell_type": "code",
   "execution_count": 15,
   "id": "81e62d3f",
   "metadata": {
    "ExecuteTime": {
     "end_time": "2024-08-22T10:07:08.385880Z",
     "start_time": "2024-08-22T10:07:08.120324Z"
    }
   },
   "outputs": [
    {
     "name": "stdout",
     "output_type": "stream",
     "text": [
      "Mean Squared Error: 6213853254385.732\n",
      "Root Mean Squared Error: 2492760.1678432147\n"
     ]
    }
   ],
   "source": [
    "\"\"\"\n",
    "MSE é útil quando queremos penalizar grandes erros mais severamente. Pode ser mais sensível a outliers, pois o erro é elevado ao quadrado.\n",
    "RMSE é útil para uma interpretação mais direta do erro médio. Ele proporciona uma visão mais intuitiva de quanto, em média, o modelo está errando.\n",
    "\n",
    "O resultado 6213853254385.732 de Mean Squared Error indica que o resultado do modelo não foi adequado e que deve ser melhorado o processo\n",
    "\n",
    "\"\"\"\n",
    "\n",
    "# Prever e avaliar\n",
    "y_pred = pipeline.predict(X_test)\n",
    "mse = mean_squared_error(y_test, y_pred)\n",
    "rmse = np.sqrt(mse)\n",
    "\n",
    "print(f\"Mean Squared Error: {mse}\")\n",
    "print(f\"Root Mean Squared Error: {rmse}\")\n"
   ]
  },
  {
   "cell_type": "code",
   "execution_count": 16,
   "id": "46b84c78",
   "metadata": {
    "ExecuteTime": {
     "end_time": "2024-08-22T10:07:08.416955Z",
     "start_time": "2024-08-22T10:07:08.387413Z"
    }
   },
   "outputs": [],
   "source": [
    "# Para acessar a importância das features, primeiro obtenha o regressor do pipeline\n",
    "regressor = pipeline.named_steps['model']\n",
    "\n",
    "# Para obter as importâncias das features, precisamos acessar as importâncias\n",
    "# Aplicar o mesmo pré-processamento às features do conjunto de teste\n",
    "X_test_transformed = pipeline.named_steps['preprocessor'].transform(X_test)\n",
    "\n",
    "# Obter a importância das features diretamente do modelo\n",
    "importances = regressor.feature_importances_"
   ]
  },
  {
   "cell_type": "code",
   "execution_count": 17,
   "id": "5ce71615",
   "metadata": {
    "ExecuteTime": {
     "end_time": "2024-08-22T10:07:08.431815Z",
     "start_time": "2024-08-22T10:07:08.418042Z"
    }
   },
   "outputs": [
    {
     "name": "stdout",
     "output_type": "stream",
     "text": [
      "\n",
      "Importância das Features:\n",
      "         Feature  Importance\n",
      "5     dia_do_ano    0.509262\n",
      "4  semana_do_ano    0.259910\n",
      "2            dia    0.161542\n",
      "0            ano    0.064835\n",
      "1            mes    0.004451\n",
      "3  dia_da_semana    0.000000\n"
     ]
    }
   ],
   "source": [
    "\"\"\"\n",
    "Nesse caso a feature que tem mais importância é o ano, o que indica que a tendência é aumentar \n",
    "\"\"\"\n",
    "\n",
    "# Os nomes das features após o pré-processamento são mantidos em um formato que pode não corresponder aos originais\n",
    "# Portanto, é necessário mapear as importâncias para os nomes originais\n",
    "features = ['ano', 'mes', 'dia', 'dia_da_semana', 'semana_do_ano', 'dia_do_ano']\n",
    "\n",
    "importance_df = pd.DataFrame({'Feature': features, 'Importance': importances})\n",
    "\n",
    "importance_df = importance_df.sort_values(by='Importance', ascending=False)\n",
    "\n",
    "print(\"\\nImportância das Features:\")\n",
    "\n",
    "print(importance_df)"
   ]
  }
 ],
 "metadata": {
  "kernelspec": {
   "display_name": "Python 3 (ipykernel)",
   "language": "python",
   "name": "python3"
  },
  "language_info": {
   "codemirror_mode": {
    "name": "ipython",
    "version": 3
   },
   "file_extension": ".py",
   "mimetype": "text/x-python",
   "name": "python",
   "nbconvert_exporter": "python",
   "pygments_lexer": "ipython3",
   "version": "3.10.10"
  },
  "varInspector": {
   "cols": {
    "lenName": 16,
    "lenType": 16,
    "lenVar": 40
   },
   "kernels_config": {
    "python": {
     "delete_cmd_postfix": "",
     "delete_cmd_prefix": "del ",
     "library": "var_list.py",
     "varRefreshCmd": "print(var_dic_list())"
    },
    "r": {
     "delete_cmd_postfix": ") ",
     "delete_cmd_prefix": "rm(",
     "library": "var_list.r",
     "varRefreshCmd": "cat(var_dic_list()) "
    }
   },
   "types_to_exclude": [
    "module",
    "function",
    "builtin_function_or_method",
    "instance",
    "_Feature"
   ],
   "window_display": false
  }
 },
 "nbformat": 4,
 "nbformat_minor": 5
}
